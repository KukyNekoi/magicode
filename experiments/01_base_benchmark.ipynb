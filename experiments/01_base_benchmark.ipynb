{
 "cells": [
  {
   "cell_type": "code",
   "execution_count": 1,
   "metadata": {},
   "outputs": [],
   "source": [
    "from scipy.stats import entropy\n",
    "import pandas\n",
    "import numpy\n",
    "from tqdm import tqdm\n",
    "import sys"
   ]
  },
  {
   "cell_type": "code",
   "execution_count": 10,
   "metadata": {},
   "outputs": [],
   "source": [
    "%%bash\n",
    "rm -rf 01_base_benchmark_data\n",
    "mkdir -p 01_base_benchmark_data/sorted_increasing\n",
    "mkdir -p 01_base_benchmark_data/sorted_decreasing\n",
    "mkdir -p 01_base_benchmark_data/random\n",
    "mkdir -p 01_base_benchmark_data/gausian_random\n",
    "mkdir -p 01_base_benchmark_data/bins"
   ]
  },
  {
   "cell_type": "code",
   "execution_count": 11,
   "metadata": {},
   "outputs": [],
   "source": [
    "MAX_N = 7"
   ]
  },
  {
   "cell_type": "code",
   "execution_count": 12,
   "metadata": {},
   "outputs": [],
   "source": [
    "# Generates a p-constrained array, adds random noise which doesnt belong to the p-classes\n",
    "def generate_pconstrained_random(size, n_classes = -1, random_elements=0):\n",
    "    if n_classes == -1:\n",
    "        n_classes = size\n",
    "    constrained_elements = size - random_elements\n",
    "\n",
    "    # generates a constrained portion of the array using a random distribution\n",
    "    constrained_side = numpy.random.randint(low = 0, high = n_classes, size = constrained_elements) \n",
    "\n",
    "\n",
    "    unique_size = []\n",
    "\n",
    "    if random_elements > 0:\n",
    "        unique_size = numpy.random.randint(low = n_classes + 1, size = random_elements) \n",
    "\n",
    "    return numpy.concatenate([constrained_side, unique_size])"
   ]
  },
  {
   "cell_type": "code",
   "execution_count": 13,
   "metadata": {},
   "outputs": [],
   "source": [
    "## Generate arranged asc data\n",
    "for N in range(5,MAX_N):\n",
    "    filename = \"01_base_benchmark_data/sorted_increasing/N_\" + str(N) + \".ascii\"\n",
    "    array = numpy.arange(10**N)\n",
    "    with open(filename, \"w\") as file:\n",
    "        file.write(\" \".join([str(x) for x in list(array)]))"
   ]
  },
  {
   "cell_type": "code",
   "execution_count": 14,
   "metadata": {},
   "outputs": [],
   "source": [
    "## Generate arranged desc data\n",
    "for N in range(5,MAX_N):\n",
    "    filename = \"01_base_benchmark_data/sorted_decreasing/N_\" + str(N) + \".ascii\"\n",
    "    array = numpy.flip(numpy.arange(10**N),0)\n",
    "    with open(filename, \"w\") as file:\n",
    "        file.write(\" \".join([str(x) for x in list(array)]))"
   ]
  },
  {
   "cell_type": "code",
   "execution_count": 15,
   "metadata": {},
   "outputs": [],
   "source": [
    "## Generate random data\n",
    "for fold in range(1,3):\n",
    "    for N in range(5,MAX_N):\n",
    "        filename = \"01_base_benchmark_data/random/N_\" + str(N) + \".fold_\" + str(fold) + \".ascii\"\n",
    "        array = numpy.arange(10**N)\n",
    "        numpy.random.shuffle(array)\n",
    "        with open(filename, \"w\") as file:\n",
    "            file.write(\" \".join([str(x) for x in list(array)]))"
   ]
  },
  {
   "cell_type": "code",
   "execution_count": 18,
   "metadata": {
    "tags": []
   },
   "outputs": [
    {
     "output_type": "stream",
     "name": "stdout",
     "text": "01_base_benchmark_data/bins/N_5_R_0_C_1.fold_1.ascii\n01_base_benchmark_data/bins/N_5_R_0_C_1000.fold_1.ascii\n01_base_benchmark_data/bins/N_5_R_0_C_2000.fold_1.ascii\n01_base_benchmark_data/bins/N_5_R_0_C_3000.fold_1.ascii\n01_base_benchmark_data/bins/N_5_R_0_C_4000.fold_1.ascii\n01_base_benchmark_data/bins/N_5_R_0_C_5000.fold_1.ascii\n01_base_benchmark_data/bins/N_5_R_0_C_6000.fold_1.ascii\n01_base_benchmark_data/bins/N_5_R_0_C_7000.fold_1.ascii\n01_base_benchmark_data/bins/N_5_R_0_C_8000.fold_1.ascii\n01_base_benchmark_data/bins/N_5_R_0_C_9000.fold_1.ascii\n01_base_benchmark_data/bins/N_5_R_0_C_10000.fold_1.ascii\n01_base_benchmark_data/bins/N_5_R_0_C_11000.fold_1.ascii\n01_base_benchmark_data/bins/N_5_R_0_C_12000.fold_1.ascii\n01_base_benchmark_data/bins/N_5_R_0_C_13000.fold_1.ascii\n01_base_benchmark_data/bins/N_5_R_0_C_14000.fold_1.ascii\n01_base_benchmark_data/bins/N_5_R_0_C_15000.fold_1.ascii\n01_base_benchmark_data/bins/N_5_R_0_C_16000.fold_1.ascii\n01_base_benchmark_data/bins/N_5_R_0_C_17000.fold_1.ascii\n01_base_benchmark_data/bins/N_5_R_0_C_18000.fold_1.ascii\n01_base_benchmark_data/bins/N_5_R_0_C_19000.fold_1.ascii\n01_base_benchmark_data/bins/N_5_R_0_C_20000.fold_1.ascii\n01_base_benchmark_data/bins/N_5_R_0_C_21000.fold_1.ascii\n01_base_benchmark_data/bins/N_5_R_0_C_22000.fold_1.ascii\n01_base_benchmark_data/bins/N_5_R_0_C_23000.fold_1.ascii\n01_base_benchmark_data/bins/N_5_R_0_C_24000.fold_1.ascii\n01_base_benchmark_data/bins/N_5_R_0_C_25000.fold_1.ascii\n01_base_benchmark_data/bins/N_5_R_0_C_26000.fold_1.ascii\n01_base_benchmark_data/bins/N_5_R_0_C_27000.fold_1.ascii\n01_base_benchmark_data/bins/N_5_R_0_C_28000.fold_1.ascii\n01_base_benchmark_data/bins/N_5_R_0_C_29000.fold_1.ascii\n01_base_benchmark_data/bins/N_5_R_0_C_30000.fold_1.ascii\n01_base_benchmark_data/bins/N_5_R_0_C_31000.fold_1.ascii\n01_base_benchmark_data/bins/N_5_R_0_C_32000.fold_1.ascii\n01_base_benchmark_data/bins/N_5_R_0_C_33000.fold_1.ascii\n01_base_benchmark_data/bins/N_5_R_0_C_34000.fold_1.ascii\n01_base_benchmark_data/bins/N_5_R_0_C_35000.fold_1.ascii\n01_base_benchmark_data/bins/N_5_R_0_C_36000.fold_1.ascii\n01_base_benchmark_data/bins/N_5_R_0_C_37000.fold_1.ascii\n01_base_benchmark_data/bins/N_5_R_0_C_38000.fold_1.ascii\n01_base_benchmark_data/bins/N_5_R_0_C_39000.fold_1.ascii\n01_base_benchmark_data/bins/N_5_R_0_C_40000.fold_1.ascii\n01_base_benchmark_data/bins/N_5_R_0_C_41000.fold_1.ascii\n01_base_benchmark_data/bins/N_5_R_0_C_42000.fold_1.ascii\n01_base_benchmark_data/bins/N_5_R_0_C_43000.fold_1.ascii\n01_base_benchmark_data/bins/N_5_R_0_C_44000.fold_1.ascii\n01_base_benchmark_data/bins/N_5_R_0_C_45000.fold_1.ascii\n01_base_benchmark_data/bins/N_5_R_0_C_46000.fold_1.ascii\n01_base_benchmark_data/bins/N_5_R_0_C_47000.fold_1.ascii\n01_base_benchmark_data/bins/N_5_R_0_C_48000.fold_1.ascii\n01_base_benchmark_data/bins/N_5_R_0_C_49000.fold_1.ascii\n01_base_benchmark_data/bins/N_5_R_0_C_50000.fold_1.ascii\n01_base_benchmark_data/bins/N_5_R_0_C_51000.fold_1.ascii\n01_base_benchmark_data/bins/N_5_R_0_C_52000.fold_1.ascii\n01_base_benchmark_data/bins/N_5_R_0_C_53000.fold_1.ascii\n01_base_benchmark_data/bins/N_5_R_0_C_54000.fold_1.ascii\n01_base_benchmark_data/bins/N_5_R_0_C_55000.fold_1.ascii\n01_base_benchmark_data/bins/N_5_R_0_C_56000.fold_1.ascii\n01_base_benchmark_data/bins/N_5_R_0_C_57000.fold_1.ascii\n01_base_benchmark_data/bins/N_5_R_0_C_58000.fold_1.ascii\n01_base_benchmark_data/bins/N_5_R_0_C_59000.fold_1.ascii\n01_base_benchmark_data/bins/N_5_R_0_C_60000.fold_1.ascii\n01_base_benchmark_data/bins/N_5_R_0_C_61000.fold_1.ascii\n01_base_benchmark_data/bins/N_5_R_0_C_62000.fold_1.ascii\n01_base_benchmark_data/bins/N_5_R_0_C_63000.fold_1.ascii\n01_base_benchmark_data/bins/N_5_R_0_C_64000.fold_1.ascii\n01_base_benchmark_data/bins/N_5_R_0_C_65000.fold_1.ascii\n01_base_benchmark_data/bins/N_5_R_0_C_66000.fold_1.ascii\n01_base_benchmark_data/bins/N_5_R_0_C_67000.fold_1.ascii\n01_base_benchmark_data/bins/N_5_R_0_C_68000.fold_1.ascii\n01_base_benchmark_data/bins/N_5_R_0_C_69000.fold_1.ascii\n01_base_benchmark_data/bins/N_5_R_0_C_70000.fold_1.ascii\n01_base_benchmark_data/bins/N_5_R_0_C_71000.fold_1.ascii\n01_base_benchmark_data/bins/N_5_R_0_C_72000.fold_1.ascii\n01_base_benchmark_data/bins/N_5_R_0_C_73000.fold_1.ascii\n01_base_benchmark_data/bins/N_5_R_0_C_74000.fold_1.ascii\n01_base_benchmark_data/bins/N_5_R_0_C_75000.fold_1.ascii\n01_base_benchmark_data/bins/N_5_R_0_C_76000.fold_1.ascii\n01_base_benchmark_data/bins/N_5_R_0_C_77000.fold_1.ascii\n01_base_benchmark_data/bins/N_5_R_0_C_78000.fold_1.ascii\n01_base_benchmark_data/bins/N_5_R_0_C_79000.fold_1.ascii\n01_base_benchmark_data/bins/N_5_R_0_C_80000.fold_1.ascii\n01_base_benchmark_data/bins/N_5_R_0_C_81000.fold_1.ascii\n01_base_benchmark_data/bins/N_5_R_0_C_82000.fold_1.ascii\n01_base_benchmark_data/bins/N_5_R_0_C_83000.fold_1.ascii\n01_base_benchmark_data/bins/N_5_R_0_C_84000.fold_1.ascii\n01_base_benchmark_data/bins/N_5_R_0_C_85000.fold_1.ascii\n01_base_benchmark_data/bins/N_5_R_0_C_86000.fold_1.ascii\n01_base_benchmark_data/bins/N_5_R_0_C_87000.fold_1.ascii\n01_base_benchmark_data/bins/N_5_R_0_C_88000.fold_1.ascii\n01_base_benchmark_data/bins/N_5_R_0_C_89000.fold_1.ascii\n01_base_benchmark_data/bins/N_5_R_0_C_90000.fold_1.ascii\n01_base_benchmark_data/bins/N_5_R_0_C_91000.fold_1.ascii\n01_base_benchmark_data/bins/N_5_R_0_C_92000.fold_1.ascii\n01_base_benchmark_data/bins/N_5_R_0_C_93000.fold_1.ascii\n01_base_benchmark_data/bins/N_5_R_0_C_94000.fold_1.ascii\n01_base_benchmark_data/bins/N_5_R_0_C_95000.fold_1.ascii\n01_base_benchmark_data/bins/N_5_R_0_C_96000.fold_1.ascii\n01_base_benchmark_data/bins/N_5_R_0_C_97000.fold_1.ascii\n01_base_benchmark_data/bins/N_5_R_0_C_98000.fold_1.ascii\n01_base_benchmark_data/bins/N_5_R_0_C_99000.fold_1.ascii\n01_base_benchmark_data/bins/N_5_R_0_C_1.fold_2.ascii\n01_base_benchmark_data/bins/N_5_R_0_C_1000.fold_2.ascii\n01_base_benchmark_data/bins/N_5_R_0_C_2000.fold_2.ascii\n01_base_benchmark_data/bins/N_5_R_0_C_3000.fold_2.ascii\n01_base_benchmark_data/bins/N_5_R_0_C_4000.fold_2.ascii\n01_base_benchmark_data/bins/N_5_R_0_C_5000.fold_2.ascii\n01_base_benchmark_data/bins/N_5_R_0_C_6000.fold_2.ascii\n01_base_benchmark_data/bins/N_5_R_0_C_7000.fold_2.ascii\n01_base_benchmark_data/bins/N_5_R_0_C_8000.fold_2.ascii\n01_base_benchmark_data/bins/N_5_R_0_C_9000.fold_2.ascii\n01_base_benchmark_data/bins/N_5_R_0_C_10000.fold_2.ascii\n01_base_benchmark_data/bins/N_5_R_0_C_11000.fold_2.ascii\n01_base_benchmark_data/bins/N_5_R_0_C_12000.fold_2.ascii\n01_base_benchmark_data/bins/N_5_R_0_C_13000.fold_2.ascii\n01_base_benchmark_data/bins/N_5_R_0_C_14000.fold_2.ascii\n01_base_benchmark_data/bins/N_5_R_0_C_15000.fold_2.ascii\n01_base_benchmark_data/bins/N_5_R_0_C_16000.fold_2.ascii\n01_base_benchmark_data/bins/N_5_R_0_C_17000.fold_2.ascii\n01_base_benchmark_data/bins/N_5_R_0_C_18000.fold_2.ascii\n01_base_benchmark_data/bins/N_5_R_0_C_19000.fold_2.ascii\n01_base_benchmark_data/bins/N_5_R_0_C_20000.fold_2.ascii\n01_base_benchmark_data/bins/N_5_R_0_C_21000.fold_2.ascii\n01_base_benchmark_data/bins/N_5_R_0_C_22000.fold_2.ascii\n01_base_benchmark_data/bins/N_5_R_0_C_23000.fold_2.ascii\n01_base_benchmark_data/bins/N_5_R_0_C_24000.fold_2.ascii\n01_base_benchmark_data/bins/N_5_R_0_C_25000.fold_2.ascii\n01_base_benchmark_data/bins/N_5_R_0_C_26000.fold_2.ascii\n01_base_benchmark_data/bins/N_5_R_0_C_27000.fold_2.ascii\n01_base_benchmark_data/bins/N_5_R_0_C_28000.fold_2.ascii\n01_base_benchmark_data/bins/N_5_R_0_C_29000.fold_2.ascii\n01_base_benchmark_data/bins/N_5_R_0_C_30000.fold_2.ascii\n01_base_benchmark_data/bins/N_5_R_0_C_31000.fold_2.ascii\n01_base_benchmark_data/bins/N_5_R_0_C_32000.fold_2.ascii\n01_base_benchmark_data/bins/N_5_R_0_C_33000.fold_2.ascii\n01_base_benchmark_data/bins/N_5_R_0_C_34000.fold_2.ascii\n01_base_benchmark_data/bins/N_5_R_0_C_35000.fold_2.ascii\n01_base_benchmark_data/bins/N_5_R_0_C_36000.fold_2.ascii\n01_base_benchmark_data/bins/N_5_R_0_C_37000.fold_2.ascii\n01_base_benchmark_data/bins/N_5_R_0_C_38000.fold_2.ascii\n01_base_benchmark_data/bins/N_5_R_0_C_39000.fold_2.ascii\n01_base_benchmark_data/bins/N_5_R_0_C_40000.fold_2.ascii\n01_base_benchmark_data/bins/N_5_R_0_C_41000.fold_2.ascii\n01_base_benchmark_data/bins/N_5_R_0_C_42000.fold_2.ascii\n01_base_benchmark_data/bins/N_5_R_0_C_43000.fold_2.ascii\n01_base_benchmark_data/bins/N_5_R_0_C_44000.fold_2.ascii\n01_base_benchmark_data/bins/N_5_R_0_C_45000.fold_2.ascii\n01_base_benchmark_data/bins/N_5_R_0_C_46000.fold_2.ascii\n01_base_benchmark_data/bins/N_5_R_0_C_47000.fold_2.ascii\n01_base_benchmark_data/bins/N_5_R_0_C_48000.fold_2.ascii\n01_base_benchmark_data/bins/N_5_R_0_C_49000.fold_2.ascii\n01_base_benchmark_data/bins/N_5_R_0_C_50000.fold_2.ascii\n01_base_benchmark_data/bins/N_5_R_0_C_51000.fold_2.ascii\n01_base_benchmark_data/bins/N_5_R_0_C_52000.fold_2.ascii\n01_base_benchmark_data/bins/N_5_R_0_C_53000.fold_2.ascii\n01_base_benchmark_data/bins/N_5_R_0_C_54000.fold_2.ascii\n01_base_benchmark_data/bins/N_5_R_0_C_55000.fold_2.ascii\n01_base_benchmark_data/bins/N_5_R_0_C_56000.fold_2.ascii\n01_base_benchmark_data/bins/N_5_R_0_C_57000.fold_2.ascii\n01_base_benchmark_data/bins/N_5_R_0_C_58000.fold_2.ascii\n01_base_benchmark_data/bins/N_5_R_0_C_59000.fold_2.ascii\n01_base_benchmark_data/bins/N_5_R_0_C_60000.fold_2.ascii\n01_base_benchmark_data/bins/N_5_R_0_C_61000.fold_2.ascii\n01_base_benchmark_data/bins/N_5_R_0_C_62000.fold_2.ascii\n01_base_benchmark_data/bins/N_5_R_0_C_63000.fold_2.ascii\n01_base_benchmark_data/bins/N_5_R_0_C_64000.fold_2.ascii\n01_base_benchmark_data/bins/N_5_R_0_C_65000.fold_2.ascii\n01_base_benchmark_data/bins/N_5_R_0_C_66000.fold_2.ascii\n01_base_benchmark_data/bins/N_5_R_0_C_67000.fold_2.ascii\n01_base_benchmark_data/bins/N_5_R_0_C_68000.fold_2.ascii\n01_base_benchmark_data/bins/N_5_R_0_C_69000.fold_2.ascii\n01_base_benchmark_data/bins/N_5_R_0_C_70000.fold_2.ascii\n01_base_benchmark_data/bins/N_5_R_0_C_71000.fold_2.ascii\n01_base_benchmark_data/bins/N_5_R_0_C_72000.fold_2.ascii\n01_base_benchmark_data/bins/N_5_R_0_C_73000.fold_2.ascii\n01_base_benchmark_data/bins/N_5_R_0_C_74000.fold_2.ascii\n01_base_benchmark_data/bins/N_5_R_0_C_75000.fold_2.ascii\n01_base_benchmark_data/bins/N_5_R_0_C_76000.fold_2.ascii\n01_base_benchmark_data/bins/N_5_R_0_C_77000.fold_2.ascii\n01_base_benchmark_data/bins/N_5_R_0_C_78000.fold_2.ascii\n01_base_benchmark_data/bins/N_5_R_0_C_79000.fold_2.ascii\n01_base_benchmark_data/bins/N_5_R_0_C_80000.fold_2.ascii\n01_base_benchmark_data/bins/N_5_R_0_C_81000.fold_2.ascii\n01_base_benchmark_data/bins/N_5_R_0_C_82000.fold_2.ascii\n01_base_benchmark_data/bins/N_5_R_0_C_83000.fold_2.ascii\n01_base_benchmark_data/bins/N_5_R_0_C_84000.fold_2.ascii\n01_base_benchmark_data/bins/N_5_R_0_C_85000.fold_2.ascii\n01_base_benchmark_data/bins/N_5_R_0_C_86000.fold_2.ascii\n01_base_benchmark_data/bins/N_5_R_0_C_87000.fold_2.ascii\n01_base_benchmark_data/bins/N_5_R_0_C_88000.fold_2.ascii\n01_base_benchmark_data/bins/N_5_R_0_C_89000.fold_2.ascii\n01_base_benchmark_data/bins/N_5_R_0_C_90000.fold_2.ascii\n01_base_benchmark_data/bins/N_5_R_0_C_91000.fold_2.ascii\n01_base_benchmark_data/bins/N_5_R_0_C_92000.fold_2.ascii\n01_base_benchmark_data/bins/N_5_R_0_C_93000.fold_2.ascii\n01_base_benchmark_data/bins/N_5_R_0_C_94000.fold_2.ascii\n01_base_benchmark_data/bins/N_5_R_0_C_95000.fold_2.ascii\n01_base_benchmark_data/bins/N_5_R_0_C_96000.fold_2.ascii\n01_base_benchmark_data/bins/N_5_R_0_C_97000.fold_2.ascii\n01_base_benchmark_data/bins/N_5_R_0_C_98000.fold_2.ascii\n01_base_benchmark_data/bins/N_5_R_0_C_99000.fold_2.ascii\n"
    }
   ],
   "source": [
    "## Generate constrained data\n",
    "random_constraint_array = [0] #range(0, n, increment_10p)\n",
    "for fold in range(1,3):\n",
    "    for N in range(5,6): #MAX_N):\n",
    "        n = 10**N\n",
    "        ## Iterate for all classes available with 10% increments\n",
    "        increment_10p = int(n/100)\n",
    "\n",
    "        for C in [1] + list(range(increment_10p, n, increment_10p)):\n",
    "            for R in random_constraint_array:\n",
    "\n",
    "                filename = \"01_base_benchmark_data/bins/N_\" + str(N) + \"_R_\" + str(R) + \"_C_\" + str(C) + \".fold_\" + str(fold) + \".ascii\"\n",
    "                print(filename)\n",
    "                array = generate_pconstrained_random(n, n_classes=C, random_elements=R)\n",
    "                with open(filename, \"w\") as file:\n",
    "                    file.write(\" \".join([str(x) for x in list(array)]))"
   ]
  },
  {
   "cell_type": "code",
   "execution_count": null,
   "metadata": {},
   "outputs": [],
   "source": []
  },
  {
   "cell_type": "code",
   "execution_count": null,
   "metadata": {},
   "outputs": [],
   "source": []
  }
 ],
 "metadata": {
  "kernelspec": {
   "display_name": "Python 3",
   "language": "python",
   "name": "python3"
  },
  "language_info": {
   "codemirror_mode": {
    "name": "ipython",
    "version": 3
   },
   "file_extension": ".py",
   "mimetype": "text/x-python",
   "name": "python",
   "nbconvert_exporter": "python",
   "pygments_lexer": "ipython3",
   "version": "3.8.3-final"
  }
 },
 "nbformat": 4,
 "nbformat_minor": 4
}