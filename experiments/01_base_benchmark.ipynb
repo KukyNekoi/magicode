{
 "cells": [
  {
   "cell_type": "code",
   "execution_count": 5,
   "metadata": {},
   "outputs": [],
   "source": [
    "from scipy.stats import entropy\n",
    "import pandas\n",
    "import numpy\n",
    "from tqdm import tqdm\n",
    "import sys"
   ]
  },
  {
   "cell_type": "code",
   "execution_count": 13,
   "metadata": {},
   "outputs": [],
   "source": [
    "%%bash\n",
    "mkdir -p 01_base_benchmark_data/sorted_increasing\n",
    "mkdir -p 01_base_benchmark_data/sorted_decreasing\n",
    "mkdir -p 01_base_benchmark_data/random\n",
    "mkdir -p 01_base_benchmark_data/gausian_random\n",
    "mkdir -p 01_base_benchmark_data/bins"
   ]
  },
  {
   "cell_type": "code",
   "execution_count": 8,
   "metadata": {},
   "outputs": [],
   "source": [
    "def generate_pconstrained_random(size, n_classes = -1, random_quota=0.0):\n",
    "    if n_classes == -1:\n",
    "        n_classes = size\n",
    "    random_elements = int(size * random_quota)\n",
    "    constrained_elements = size - random_elements\n",
    "    \n",
    "    constrained_side = numpy.random.randint(low = 0, high = n_classes, size = constrained_elements) \n",
    "    unique_size = []\n",
    "    if random_elements > 0:\n",
    "        unique_size = range(constrained_elements, size)\n",
    "    return numpy.concatenate([constrained_side, unique_size])"
   ]
  },
  {
   "cell_type": "code",
   "execution_count": 4,
   "metadata": {},
   "outputs": [],
   "source": [
    "## Generate arranged asc data\n",
    "for N in range(1,8):\n",
    "    filename = \"01_base_benchmark_data/sorted_increasing/N_\" + str(N) + \".ascii\"\n",
    "    array = numpy.arange(10**N)\n",
    "    with open(filename, \"w\") as file:\n",
    "        file.write(\" \".join([str(x) for x in list(array)]))"
   ]
  },
  {
   "cell_type": "code",
   "execution_count": 5,
   "metadata": {},
   "outputs": [],
   "source": [
    "## Generate arranged desc data\n",
    "for N in range(1,8):\n",
    "    filename = \"01_base_benchmark_data/sorted_decreasing/N_\" + str(N) + \".ascii\"\n",
    "    array = numpy.flip(numpy.arange(10**N))\n",
    "    with open(filename, \"w\") as file:\n",
    "        file.write(\" \".join([str(x) for x in list(array)]))"
   ]
  },
  {
   "cell_type": "code",
   "execution_count": 8,
   "metadata": {},
   "outputs": [],
   "source": [
    "## Generate random data\n",
    "for fold in range(1,20):\n",
    "    for N in range(1,8):\n",
    "        filename = \"01_base_benchmark_data/random/N_\" + str(N) + \".fold_\" + str(fold) + \".ascii\"\n",
    "        array = numpy.arange(10**N)\n",
    "        numpy.random.shuffle(array)\n",
    "        with open(filename, \"w\") as file:\n",
    "            file.write(\" \".join([str(x) for x in list(array)]))"
   ]
  },
  {
   "cell_type": "code",
   "execution_count": 14,
   "metadata": {},
   "outputs": [
    {
     "output_type": "error",
     "ename": "SyntaxError",
     "evalue": "'return' outside function (<ipython-input-14-bbe118c69bde>, line 7)",
     "traceback": [
      "\u001b[0;36m  File \u001b[0;32m\"<ipython-input-14-bbe118c69bde>\"\u001b[0;36m, line \u001b[0;32m7\u001b[0m\n\u001b[0;31m    return\u001b[0m\n\u001b[0m    ^\u001b[0m\n\u001b[0;31mSyntaxError\u001b[0m\u001b[0;31m:\u001b[0m 'return' outside function\n"
     ]
    }
   ],
   "source": [
    "## Generate constrained data\n",
    "for fold in range(1,20):\n",
    "    for N in range(1,8):\n",
    "        n = 10**N\n",
    "        for C in [1] + range(int(n/10),n, int(n/10)):\n",
    "            if(C > 2):\n",
    "                exit(0)\n",
    "            R = C/n\n",
    "            filename = \"01_base_benchmark_data/random/N_\" + str(N) + \"_R_\" + str(R) + \"_C_\" + str(C) + \".fold_\" + str(fold) + \".ascii\"\n",
    "            array = generate_pconstrained_random(n, C, 1-C)\n",
    "            with open(filename, \"w\") as file:\n",
    "                file.write(\" \".join([str(x) for x in list(array)]))"
   ]
  },
  {
   "cell_type": "code",
   "execution_count": null,
   "metadata": {},
   "outputs": [],
   "source": []
  }
 ],
 "metadata": {
  "kernelspec": {
   "display_name": "Python 3",
   "language": "python",
   "name": "python3"
  },
  "language_info": {
   "codemirror_mode": {
    "name": "ipython",
    "version": 3
   },
   "file_extension": ".py",
   "mimetype": "text/x-python",
   "name": "python",
   "nbconvert_exporter": "python",
   "pygments_lexer": "ipython3",
   "version": "3.8.3-final"
  }
 },
 "nbformat": 4,
 "nbformat_minor": 4
}