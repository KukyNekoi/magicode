{
 "cells": [
  {
   "cell_type": "markdown",
   "metadata": {},
   "source": [
    "# Vignere con braile\n",
    "\n",
    "Para la ejecución de este notebook es necesario poseer un entorno Jupyter disponible. Este puede ser [instalado manualmente](https://jupyter.org/install) o bien por [medio de un entorno de anaconda](https://www.anaconda.com/). "
   ]
  },
  {
   "cell_type": "code",
   "execution_count": 1,
   "metadata": {},
   "outputs": [],
   "source": [
    "# Demostración string entrada\n",
    "key = \"UTALCA\"\n",
    "message = \"UNIVERSIDAD\"\n",
    "order = \"123456\""
   ]
  },
  {
   "cell_type": "code",
   "execution_count": 2,
   "metadata": {},
   "outputs": [],
   "source": [
    "key = key.upper()\n",
    "message = message.upper()"
   ]
  },
  {
   "cell_type": "code",
   "execution_count": 3,
   "metadata": {},
   "outputs": [],
   "source": [
    "# Alfabeto inútil porque el braile restringido a una sola celda no considera en su estándar la letra ñ\n",
    "alphabet = \"ABCDEFGHIJKLMNÑOPQRSTUVWXYZ\""
   ]
  },
  {
   "cell_type": "code",
   "execution_count": 4,
   "metadata": {},
   "outputs": [
    {
     "data": {
      "text/plain": [
       "['O', 'G', 'I', 'G', 'G', 'R', 'N', 'B', 'D', 'L', 'F']"
      ]
     },
     "metadata": {},
     "output_type": "display_data"
    }
   ],
   "source": [
    "# Cálculo de mensaje cifrado\n",
    "skey_lkt = [i % len(key) for i in range(0,len(message),1)]\n",
    "cyphered = [(alphabet[(alphabet.index(key[idx%len(key)])+alphabet.index(chara))%len(alphabet)]) for idx, chara in enumerate(message, start=0)]\n",
    "display(cyphered)"
   ]
  },
  {
   "cell_type": "code",
   "execution_count": 5,
   "metadata": {},
   "outputs": [
    {
     "data": {
      "text/plain": [
       "['⠕', '⠛', '⠊', '⠛', '⠛', '⠗', '⠝', '⠃', '⠙', '⠇', '⠋']"
      ]
     },
     "metadata": {},
     "output_type": "display_data"
    },
    {
     "data": {
      "text/plain": [
       "['⠥', '⠞', '⠁', '⠇', '⠉', '⠁']"
      ]
     },
     "metadata": {},
     "output_type": "display_data"
    }
   ],
   "source": [
    "# Generación de braile por medio de una lookup-table\n",
    "\n",
    "braile_lexicon = \" A1B'K2L@CIF/MSP\\\"E3H9O6R^DJG>NTQ,*5<-U8V.%[$+X!&;:4\\\\0Z7(_?W]#Y)=\"\n",
    "braile_alphabet = \"⠀⠁⠂⠃⠄⠅⠆⠇⠈⠉⠊⠋⠌⠍⠎⠏⠐⠑⠒⠓⠔⠕⠖⠗⠘⠙⠚⠛⠜⠝⠞⠟⠠⠡⠢⠣⠤⠥⠦⠧⠨⠩⠪⠫⠬⠭⠮⠯⠰⠱⠲⠳⠴⠵⠶⠷⠸⠹⠺⠻⠼⠽⠾⠿\"\n",
    "\n",
    "braile_cmessage = [braile_alphabet[braile_lexicon.index(i)] if i in braile_lexicon else \" \" for i in cyphered]\n",
    "braile_skey = [braile_alphabet[braile_lexicon.index(i)] if i in braile_lexicon else \" \" for i in key]\n",
    "\n",
    "display(braile_cmessage)\n",
    "display(braile_skey)"
   ]
  },
  {
   "cell_type": "code",
   "execution_count": 6,
   "metadata": {},
   "outputs": [],
   "source": [
    "# La definición de la tarea no es compilante con el estándar braille ASCII y dado que esta es la única\n",
    "# representación valida para englobar un caracter con un espacio, se fuerza su uso, se ignora el\n",
    "# alfabeto español. Adicionalmente como el mapeo presentado en la tarea tampoco es compilante con el\n",
    "# estándar, se usa un mapeo para representar el string de orden, asumiendo LE\n",
    "\n",
    "# Por otro lado, es inútil utilizar braile para generar una permutación ya que esta no es válida debido a\n",
    "# que se utiliza el valor binario impuesto por el alfabeto braile el cual no contiene caractéres especiales\n",
    "# del idioma español de manera directa. Por tanto es imposible regenerar la cadena original debido a esta\n",
    "# inconsistencia en el largo de los elementos. Este es el argumento principal de por que eliminar los\n",
    "# caracteres especiales tratándolos como espacios\n",
    "\n",
    "# Se limpia la cadena\n",
    "c_cyphered = [i if i in braile_lexicon else \" \" for i in cyphered]\n",
    "\n",
    "# Se genera el diccionario\n",
    "\n",
    "bidx = [\n",
    "    [\"1\" if (braile_lexicon.index(i) & 0b000001) else \"0\" for i in c_cyphered],\n",
    "    [\"1\" if (braile_lexicon.index(i) & 0b001000) else \"0\" for i in c_cyphered],\n",
    "    [\"1\" if (braile_lexicon.index(i) & 0b000010) else \"0\" for i in c_cyphered],\n",
    "    [\"1\" if (braile_lexicon.index(i) & 0b010000) else \"0\" for i in c_cyphered],\n",
    "    [\"1\" if (braile_lexicon.index(i) & 0b000100) else \"0\" for i in c_cyphered],\n",
    "    [\"1\" if (braile_lexicon.index(i) & 0b100000) else \"0\" for i in c_cyphered]\n",
    "]"
   ]
  },
  {
   "cell_type": "code",
   "execution_count": 7,
   "metadata": {},
   "outputs": [
    {
     "data": {
      "text/plain": [
       "'11011111111 01111010101 01111101011 11011110100 10000110010 00000000000'"
      ]
     },
     "execution_count": 7,
     "metadata": {},
     "output_type": "execute_result"
    }
   ],
   "source": [
    "# Permutación de acuerdo a string de orden\n",
    "\" \".join([\"\".join(bidx[int(i)-1]) for i in order])"
   ]
  },
  {
   "cell_type": "code",
   "execution_count": 8,
   "metadata": {},
   "outputs": [
    {
     "data": {
      "text/plain": [
       "['U', 'N', 'I', 'V', 'E', 'R', 'S', 'I', 'D', 'A', 'D']"
      ]
     },
     "metadata": {},
     "output_type": "display_data"
    }
   ],
   "source": [
    "# El proceso especificado en el enunciado considera la salida encriptada sobre \n",
    "# la cadena original, no observando el braile (quizás esto fue premeditado\n",
    "# en base al fenómeno antes descrito.\n",
    "\n",
    "# Cálculo de mensaje recuperado\n",
    "skey_lkt = [i % len(key) for i in range(0,len(message),1)]\n",
    "decyphered = [(alphabet[(alphabet.index(chara) - alphabet.index(key[idx%len(key)]))%len(alphabet)]) for idx, chara in enumerate(cyphered, start=0)]\n",
    "display(decyphered)"
   ]
  },
  {
   "cell_type": "markdown",
   "metadata": {},
   "source": [
    "# Generación de fuente\n",
    "A continuación se muestra el código fuente para ser ejecutado en cualquier consola python. \n",
    "\n",
    "El ingreso de parámetros es por entrada estándar separados de un delimitador de línea. El orden de ingreso es mensaje, llave, cadena de orden.\n",
    "\n",
    "Como el proceso de instalación y ejecución se ve en los primeros cursos de la carrera y es pre-requisito de este módulo, se asume conocido por el lector."
   ]
  },
  {
   "cell_type": "code",
   "execution_count": 9,
   "metadata": {},
   "outputs": [
    {
     "name": "stdout",
     "output_type": "stream",
     "text": [
      "Overwriting tarea6.py\n"
     ]
    }
   ],
   "source": [
    "%%writefile tarea6.py\n",
    "\n",
    "import sys\n",
    "message, key, order = [line.strip() for line in sys.stdin.readlines()]\n",
    "\n",
    "key = key.upper()\n",
    "message = message.upper()\n",
    "\n",
    "alphabet = \"ABCDEFGHIJKLMNÑOPQRSTUVWXYZ\"\n",
    "\n",
    "skey_lkt = [i % len(key) for i in range(0,len(message),1)]\n",
    "cyphered = [(alphabet[(alphabet.index(key[idx%len(key)])+alphabet.index(chara))%len(alphabet)]) for idx, chara in enumerate(message, start=0)]\n",
    "print(cyphered)\n",
    "\n",
    "braile_lexicon = \" A1B'K2L@CIF/MSP\\\"E3H9O6R^DJG>NTQ,*5<-U8V.%[$+X!&;:4\\\\0Z7(_?W]#Y)=\"\n",
    "braile_alphabet = \"⠀⠁⠂⠃⠄⠅⠆⠇⠈⠉⠊⠋⠌⠍⠎⠏⠐⠑⠒⠓⠔⠕⠖⠗⠘⠙⠚⠛⠜⠝⠞⠟⠠⠡⠢⠣⠤⠥⠦⠧⠨⠩⠪⠫⠬⠭⠮⠯⠰⠱⠲⠳⠴⠵⠶⠷⠸⠹⠺⠻⠼⠽⠾⠿\"\n",
    "\n",
    "braile_cmessage = [braile_alphabet[braile_lexicon.index(i)] if i in braile_lexicon else \" \" for i in cyphered]\n",
    "braile_skey = [braile_alphabet[braile_lexicon.index(i)] if i in braile_lexicon else \" \" for i in key]\n",
    "\n",
    "print(braile_cmessage)\n",
    "print(braile_skey)\n",
    "\n",
    "c_cyphered = [i if i in braile_lexicon else \" \" for i in cyphered]\n",
    "\n",
    "bidx = [\n",
    "    [\"1\" if (braile_lexicon.index(i) & 0b000001) else \"0\" for i in c_cyphered],\n",
    "    [\"1\" if (braile_lexicon.index(i) & 0b001000) else \"0\" for i in c_cyphered],\n",
    "    [\"1\" if (braile_lexicon.index(i) & 0b000010) else \"0\" for i in c_cyphered],\n",
    "    [\"1\" if (braile_lexicon.index(i) & 0b010000) else \"0\" for i in c_cyphered],\n",
    "    [\"1\" if (braile_lexicon.index(i) & 0b000100) else \"0\" for i in c_cyphered],\n",
    "    [\"1\" if (braile_lexicon.index(i) & 0b100000) else \"0\" for i in c_cyphered]\n",
    "]\n",
    "\n",
    "\n",
    "print(\" \".join([\"\".join(bidx[int(i)-1]) for i in order]))\n",
    "\n",
    "skey_lkt = [i % len(key) for i in range(0,len(message),1)]\n",
    "decyphered = [(alphabet[(alphabet.index(chara) - alphabet.index(key[idx%len(key)]))%len(alphabet)]) for idx, chara in enumerate(cyphered, start=0)]\n",
    "print(decyphered)"
   ]
  },
  {
   "cell_type": "code",
   "execution_count": null,
   "metadata": {},
   "outputs": [],
   "source": []
  }
 ],
 "metadata": {
  "kernelspec": {
   "display_name": "Python 3",
   "language": "python",
   "name": "python3"
  },
  "language_info": {
   "codemirror_mode": {
    "name": "ipython",
    "version": 3
   },
   "file_extension": ".py",
   "mimetype": "text/x-python",
   "name": "python",
   "nbconvert_exporter": "python",
   "pygments_lexer": "ipython3",
   "version": "3.8.3"
  }
 },
 "nbformat": 4,
 "nbformat_minor": 4
}
